{
 "cells": [
  {
   "cell_type": "code",
   "execution_count": 29,
   "metadata": {},
   "outputs": [],
   "source": [
    "import numpy as np\n",
    "import pandas as pd\n",
    "\n",
    "from datetime import datetime\n",
    "\n",
    "import matplotlib.pyplot as plt"
   ]
  },
  {
   "cell_type": "code",
   "execution_count": 12,
   "metadata": {},
   "outputs": [],
   "source": [
    "df_train = pd.read_csv(\"../data/clean/df_train.csv\", index_col=0)"
   ]
  },
  {
   "cell_type": "code",
   "execution_count": 13,
   "metadata": {},
   "outputs": [
    {
     "data": {
      "text/html": [
       "<div>\n",
       "<style scoped>\n",
       "    .dataframe tbody tr th:only-of-type {\n",
       "        vertical-align: middle;\n",
       "    }\n",
       "\n",
       "    .dataframe tbody tr th {\n",
       "        vertical-align: top;\n",
       "    }\n",
       "\n",
       "    .dataframe thead th {\n",
       "        text-align: right;\n",
       "    }\n",
       "</style>\n",
       "<table border=\"1\" class=\"dataframe\">\n",
       "  <thead>\n",
       "    <tr style=\"text-align: right;\">\n",
       "      <th></th>\n",
       "      <th>UserId</th>\n",
       "      <th>ProductId</th>\n",
       "      <th>Rating</th>\n",
       "      <th>Timestamp</th>\n",
       "    </tr>\n",
       "  </thead>\n",
       "  <tbody>\n",
       "    <tr>\n",
       "      <td>691810</td>\n",
       "      <td>A2O5EXPH8UKUS3</td>\n",
       "      <td>B001FSK8PS</td>\n",
       "      <td>5.0</td>\n",
       "      <td>1372204800</td>\n",
       "    </tr>\n",
       "    <tr>\n",
       "      <td>515687</td>\n",
       "      <td>A3I64V4AR136KY</td>\n",
       "      <td>B00121UVU0</td>\n",
       "      <td>1.0</td>\n",
       "      <td>1352246400</td>\n",
       "    </tr>\n",
       "    <tr>\n",
       "      <td>366115</td>\n",
       "      <td>A2N56YII67PSHS</td>\n",
       "      <td>B000P20RQU</td>\n",
       "      <td>5.0</td>\n",
       "      <td>1359072000</td>\n",
       "    </tr>\n",
       "    <tr>\n",
       "      <td>571174</td>\n",
       "      <td>A3RV5ZUA8W67FK</td>\n",
       "      <td>B0016P4P4K</td>\n",
       "      <td>5.0</td>\n",
       "      <td>1350432000</td>\n",
       "    </tr>\n",
       "    <tr>\n",
       "      <td>1664068</td>\n",
       "      <td>A2XRZV63X79YSJ</td>\n",
       "      <td>B008EKY8VK</td>\n",
       "      <td>4.0</td>\n",
       "      <td>1378252800</td>\n",
       "    </tr>\n",
       "  </tbody>\n",
       "</table>\n",
       "</div>"
      ],
      "text/plain": [
       "                 UserId   ProductId  Rating   Timestamp\n",
       "691810   A2O5EXPH8UKUS3  B001FSK8PS     5.0  1372204800\n",
       "515687   A3I64V4AR136KY  B00121UVU0     1.0  1352246400\n",
       "366115   A2N56YII67PSHS  B000P20RQU     5.0  1359072000\n",
       "571174   A3RV5ZUA8W67FK  B0016P4P4K     5.0  1350432000\n",
       "1664068  A2XRZV63X79YSJ  B008EKY8VK     4.0  1378252800"
      ]
     },
     "execution_count": 13,
     "metadata": {},
     "output_type": "execute_result"
    }
   ],
   "source": [
    "df_train.head()"
   ]
  },
  {
   "cell_type": "code",
   "execution_count": 24,
   "metadata": {},
   "outputs": [],
   "source": [
    "df_train['Timestamp'] = df_train['Timestamp'].apply(datetime.fromtimestamp)"
   ]
  },
  {
   "cell_type": "code",
   "execution_count": 25,
   "metadata": {},
   "outputs": [
    {
     "data": {
      "text/html": [
       "<div>\n",
       "<style scoped>\n",
       "    .dataframe tbody tr th:only-of-type {\n",
       "        vertical-align: middle;\n",
       "    }\n",
       "\n",
       "    .dataframe tbody tr th {\n",
       "        vertical-align: top;\n",
       "    }\n",
       "\n",
       "    .dataframe thead th {\n",
       "        text-align: right;\n",
       "    }\n",
       "</style>\n",
       "<table border=\"1\" class=\"dataframe\">\n",
       "  <thead>\n",
       "    <tr style=\"text-align: right;\">\n",
       "      <th></th>\n",
       "      <th>UserId</th>\n",
       "      <th>ProductId</th>\n",
       "      <th>Rating</th>\n",
       "      <th>Timestamp</th>\n",
       "    </tr>\n",
       "  </thead>\n",
       "  <tbody>\n",
       "    <tr>\n",
       "      <td>691810</td>\n",
       "      <td>A2O5EXPH8UKUS3</td>\n",
       "      <td>B001FSK8PS</td>\n",
       "      <td>5.0</td>\n",
       "      <td>2013-06-25 17:00:00</td>\n",
       "    </tr>\n",
       "    <tr>\n",
       "      <td>515687</td>\n",
       "      <td>A3I64V4AR136KY</td>\n",
       "      <td>B00121UVU0</td>\n",
       "      <td>1.0</td>\n",
       "      <td>2012-11-06 16:00:00</td>\n",
       "    </tr>\n",
       "    <tr>\n",
       "      <td>366115</td>\n",
       "      <td>A2N56YII67PSHS</td>\n",
       "      <td>B000P20RQU</td>\n",
       "      <td>5.0</td>\n",
       "      <td>2013-01-24 16:00:00</td>\n",
       "    </tr>\n",
       "    <tr>\n",
       "      <td>571174</td>\n",
       "      <td>A3RV5ZUA8W67FK</td>\n",
       "      <td>B0016P4P4K</td>\n",
       "      <td>5.0</td>\n",
       "      <td>2012-10-16 17:00:00</td>\n",
       "    </tr>\n",
       "    <tr>\n",
       "      <td>1664068</td>\n",
       "      <td>A2XRZV63X79YSJ</td>\n",
       "      <td>B008EKY8VK</td>\n",
       "      <td>4.0</td>\n",
       "      <td>2013-09-03 17:00:00</td>\n",
       "    </tr>\n",
       "  </tbody>\n",
       "</table>\n",
       "</div>"
      ],
      "text/plain": [
       "                 UserId   ProductId  Rating           Timestamp\n",
       "691810   A2O5EXPH8UKUS3  B001FSK8PS     5.0 2013-06-25 17:00:00\n",
       "515687   A3I64V4AR136KY  B00121UVU0     1.0 2012-11-06 16:00:00\n",
       "366115   A2N56YII67PSHS  B000P20RQU     5.0 2013-01-24 16:00:00\n",
       "571174   A3RV5ZUA8W67FK  B0016P4P4K     5.0 2012-10-16 17:00:00\n",
       "1664068  A2XRZV63X79YSJ  B008EKY8VK     4.0 2013-09-03 17:00:00"
      ]
     },
     "execution_count": 25,
     "metadata": {},
     "output_type": "execute_result"
    }
   ],
   "source": [
    "df_train.head()"
   ]
  },
  {
   "cell_type": "code",
   "execution_count": 32,
   "metadata": {},
   "outputs": [
    {
     "data": {
      "image/png": "[encoded data removed]",
      "text/plain": [
       "<Figure size 432x288 with 1 Axes>"
      ]
     },
     "metadata": {
      "needs_background": "light"
     },
     "output_type": "display_data"
    }
   ],
   "source": [
    "df_train['Rating'].hist()\n",
    "plt.xlabel(\"Ratings\")\n",
    "plt.ylabel(\"Counts\")\n",
    "plt.title(\"Histogrom of ratings\");"
   ]
  },
  {
   "cell_type": "code",
   "execution_count": 35,
   "metadata": {},
   "outputs": [
    {
     "name": "stdout",
     "output_type": "stream",
     "text": [
      "There are 821976 users giving ratings.\n",
      "There are 199393 products in this data set.\n"
     ]
    }
   ],
   "source": [
    "num_users = len(np.unique(df_train['UserId']))\n",
    "num_products = len(np.unique(df_train['ProductId']))\n",
    "print(f'There are {num_users} users giving ratings.')\n",
    "print(f'There are {num_products} products in this data set.')"
   ]
  },
  {
   "cell_type": "code",
   "execution_count": null,
   "metadata": {},
   "outputs": [],
   "source": []
  }
 ],
 "metadata": {
  "kernelspec": {
   "display_name": "Python 3",
   "language": "python",
   "name": "python3"
  },
  "language_info": {
   "codemirror_mode": {
    "name": "ipython",
    "version": 3
   },
   "file_extension": ".py",
   "mimetype": "text/x-python",
   "name": "python",
   "nbconvert_exporter": "python",
   "pygments_lexer": "ipython3",
   "version": "3.7.4"
  }
 },
 "nbformat": 4,
 "nbformat_minor": 4
}
