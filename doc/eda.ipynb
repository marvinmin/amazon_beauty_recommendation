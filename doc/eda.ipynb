{
 "cells": [
  {
   "cell_type": "code",
   "execution_count": 1,
   "metadata": {},
   "outputs": [],
   "source": [
    "import numpy as np\n",
    "import pandas as pd\n",
    "\n",
    "import warnings\n",
    "warnings.simplefilter(action='ignore', category=FutureWarning)\n",
    "\n",
    "from datetime import datetime\n",
    "\n",
    "import matplotlib.pyplot as plt\n",
    "\n",
    "from IPython.core.display import display, HTML\n",
    "from scipy.sparse import csr_matrix as sparse_matrix\n",
    "\n",
    "from sklearn.neighbors import NearestNeighbors\n",
    "from sklearn.decomposition import TruncatedSVD\n",
    "\n",
    "# Load the functions\n",
    "import sys\n",
    "sys.path.insert(1, '../src')\n",
    "from preprocessing_eda import *"
   ]
  },
  {
   "cell_type": "markdown",
   "metadata": {},
   "source": [
    "## Read the training data and do some EDA"
   ]
  },
  {
   "cell_type": "code",
   "execution_count": 2,
   "metadata": {},
   "outputs": [],
   "source": [
    "df_train = pd.read_csv(\"../data/clean/df_train.csv\", index_col=0)"
   ]
  },
  {
   "cell_type": "code",
   "execution_count": 3,
   "metadata": {},
   "outputs": [
    {
     "data": {
      "text/html": [
       "<div>\n",
       "<style scoped>\n",
       "    .dataframe tbody tr th:only-of-type {\n",
       "        vertical-align: middle;\n",
       "    }\n",
       "\n",
       "    .dataframe tbody tr th {\n",
       "        vertical-align: top;\n",
       "    }\n",
       "\n",
       "    .dataframe thead th {\n",
       "        text-align: right;\n",
       "    }\n",
       "</style>\n",
       "<table border=\"1\" class=\"dataframe\">\n",
       "  <thead>\n",
       "    <tr style=\"text-align: right;\">\n",
       "      <th></th>\n",
       "      <th>UserId</th>\n",
       "      <th>ProductId</th>\n",
       "      <th>Rating</th>\n",
       "      <th>Timestamp</th>\n",
       "    </tr>\n",
       "  </thead>\n",
       "  <tbody>\n",
       "    <tr>\n",
       "      <th>691810</th>\n",
       "      <td>A2O5EXPH8UKUS3</td>\n",
       "      <td>B001FSK8PS</td>\n",
       "      <td>5.0</td>\n",
       "      <td>1372204800</td>\n",
       "    </tr>\n",
       "    <tr>\n",
       "      <th>515687</th>\n",
       "      <td>A3I64V4AR136KY</td>\n",
       "      <td>B00121UVU0</td>\n",
       "      <td>1.0</td>\n",
       "      <td>1352246400</td>\n",
       "    </tr>\n",
       "    <tr>\n",
       "      <th>366115</th>\n",
       "      <td>A2N56YII67PSHS</td>\n",
       "      <td>B000P20RQU</td>\n",
       "      <td>5.0</td>\n",
       "      <td>1359072000</td>\n",
       "    </tr>\n",
       "    <tr>\n",
       "      <th>571174</th>\n",
       "      <td>A3RV5ZUA8W67FK</td>\n",
       "      <td>B0016P4P4K</td>\n",
       "      <td>5.0</td>\n",
       "      <td>1350432000</td>\n",
       "    </tr>\n",
       "    <tr>\n",
       "      <th>1664068</th>\n",
       "      <td>A2XRZV63X79YSJ</td>\n",
       "      <td>B008EKY8VK</td>\n",
       "      <td>4.0</td>\n",
       "      <td>1378252800</td>\n",
       "    </tr>\n",
       "  </tbody>\n",
       "</table>\n",
       "</div>"
      ],
      "text/plain": [
       "                 UserId   ProductId  Rating   Timestamp\n",
       "691810   A2O5EXPH8UKUS3  B001FSK8PS     5.0  1372204800\n",
       "515687   A3I64V4AR136KY  B00121UVU0     1.0  1352246400\n",
       "366115   A2N56YII67PSHS  B000P20RQU     5.0  1359072000\n",
       "571174   A3RV5ZUA8W67FK  B0016P4P4K     5.0  1350432000\n",
       "1664068  A2XRZV63X79YSJ  B008EKY8VK     4.0  1378252800"
      ]
     },
     "execution_count": 3,
     "metadata": {},
     "output_type": "execute_result"
    }
   ],
   "source": [
    "df_train.head()"
   ]
  },
  {
   "cell_type": "markdown",
   "metadata": {},
   "source": [
    "We need to transfer the `Timestamp` to more readable format."
   ]
  },
  {
   "cell_type": "code",
   "execution_count": 4,
   "metadata": {},
   "outputs": [],
   "source": [
    "df_train['Timestamp'] = df_train['Timestamp'].apply(datetime.fromtimestamp)"
   ]
  },
  {
   "cell_type": "code",
   "execution_count": 5,
   "metadata": {},
   "outputs": [
    {
     "data": {
      "text/html": [
       "<div>\n",
       "<style scoped>\n",
       "    .dataframe tbody tr th:only-of-type {\n",
       "        vertical-align: middle;\n",
       "    }\n",
       "\n",
       "    .dataframe tbody tr th {\n",
       "        vertical-align: top;\n",
       "    }\n",
       "\n",
       "    .dataframe thead th {\n",
       "        text-align: right;\n",
       "    }\n",
       "</style>\n",
       "<table border=\"1\" class=\"dataframe\">\n",
       "  <thead>\n",
       "    <tr style=\"text-align: right;\">\n",
       "      <th></th>\n",
       "      <th>UserId</th>\n",
       "      <th>ProductId</th>\n",
       "      <th>Rating</th>\n",
       "      <th>Timestamp</th>\n",
       "    </tr>\n",
       "  </thead>\n",
       "  <tbody>\n",
       "    <tr>\n",
       "      <th>691810</th>\n",
       "      <td>A2O5EXPH8UKUS3</td>\n",
       "      <td>B001FSK8PS</td>\n",
       "      <td>5.0</td>\n",
       "      <td>2013-06-25 17:00:00</td>\n",
       "    </tr>\n",
       "    <tr>\n",
       "      <th>515687</th>\n",
       "      <td>A3I64V4AR136KY</td>\n",
       "      <td>B00121UVU0</td>\n",
       "      <td>1.0</td>\n",
       "      <td>2012-11-06 16:00:00</td>\n",
       "    </tr>\n",
       "    <tr>\n",
       "      <th>366115</th>\n",
       "      <td>A2N56YII67PSHS</td>\n",
       "      <td>B000P20RQU</td>\n",
       "      <td>5.0</td>\n",
       "      <td>2013-01-24 16:00:00</td>\n",
       "    </tr>\n",
       "    <tr>\n",
       "      <th>571174</th>\n",
       "      <td>A3RV5ZUA8W67FK</td>\n",
       "      <td>B0016P4P4K</td>\n",
       "      <td>5.0</td>\n",
       "      <td>2012-10-16 17:00:00</td>\n",
       "    </tr>\n",
       "    <tr>\n",
       "      <th>1664068</th>\n",
       "      <td>A2XRZV63X79YSJ</td>\n",
       "      <td>B008EKY8VK</td>\n",
       "      <td>4.0</td>\n",
       "      <td>2013-09-03 17:00:00</td>\n",
       "    </tr>\n",
       "  </tbody>\n",
       "</table>\n",
       "</div>"
      ],
      "text/plain": [
       "                 UserId   ProductId  Rating           Timestamp\n",
       "691810   A2O5EXPH8UKUS3  B001FSK8PS     5.0 2013-06-25 17:00:00\n",
       "515687   A3I64V4AR136KY  B00121UVU0     1.0 2012-11-06 16:00:00\n",
       "366115   A2N56YII67PSHS  B000P20RQU     5.0 2013-01-24 16:00:00\n",
       "571174   A3RV5ZUA8W67FK  B0016P4P4K     5.0 2012-10-16 17:00:00\n",
       "1664068  A2XRZV63X79YSJ  B008EKY8VK     4.0 2013-09-03 17:00:00"
      ]
     },
     "execution_count": 5,
     "metadata": {},
     "output_type": "execute_result"
    }
   ],
   "source": [
    "df_train.head()"
   ]
  },
  {
   "cell_type": "code",
   "execution_count": 6,
   "metadata": {},
   "outputs": [
    {
     "data": {
      "image/png": "[encoded data removed]",
      "text/plain": [
       "<Figure size 432x288 with 1 Axes>"
      ]
     },
     "metadata": {
      "needs_background": "light"
     },
     "output_type": "display_data"
    }
   ],
   "source": [
    "df_train['Rating'].hist()\n",
    "plt.xlabel(\"Ratings\")\n",
    "plt.ylabel(\"Counts\")\n",
    "plt.title(\"Histogrom of ratings\");"
   ]
  },
  {
   "cell_type": "code",
   "execution_count": 7,
   "metadata": {},
   "outputs": [
    {
     "name": "stdout",
     "output_type": "stream",
     "text": [
      "Number of ratings: 1213842\n",
      "The average rating: 4.15\n",
      "Number of users: 821976\n",
      "Number of items: 199393\n",
      "Fraction nonzero: 7.4061604321739915e-06\n",
      "Size of full X matrix (GB): 1311.17\n"
     ]
    }
   ],
   "source": [
    "num_users = len(set(df_train['UserId']))\n",
    "num_products = len(set(df_train['ProductId']))\n",
    "print(\"Number of ratings:\", len(df_train))\n",
    "print(\"The average rating:\", round(np.mean(df_train[\"Rating\"]),2))\n",
    "print(\"Number of users:\", num_users)\n",
    "print(\"Number of items:\", num_products)\n",
    "print(\"Fraction nonzero:\", len(df_train)/(num_users*num_products))\n",
    "print(\"Size of full X matrix (GB):\", round((num_users*num_products)*8/1e9, 2))"
   ]
  },
  {
   "cell_type": "markdown",
   "metadata": {},
   "source": [
    "If a full utility matrix is built, it would to too large (1311 GB). On the other hand, we have only 1.2 million ratings, which should be only around 10 MB. Hence, we need to use the sparse matrix for the matrix."
   ]
  },
  {
   "cell_type": "code",
   "execution_count": 8,
   "metadata": {},
   "outputs": [],
   "source": [
    "X, user_mapper, item_mapper, user_inverse_mapper, item_inverse_mapper, user_ind, item_ind = create_X(df_train, n=num_products, d=num_users, user_key='UserId', item_key='ProductId')"
   ]
  },
  {
   "cell_type": "code",
   "execution_count": 9,
   "metadata": {},
   "outputs": [
    {
     "name": "stdout",
     "output_type": "stream",
     "text": [
      "(199393, 821976)\n",
      "1213842\n",
      "Using sparse matrix data structure, the size of X is: 9.71MB\n"
     ]
    }
   ],
   "source": [
    "# sanity check\n",
    "print(X.shape) # should be number of items by number of users\n",
    "print(X.nnz)   # number of nonzero elements -- should equal number of ratings\n",
    "print(f\"Using sparse matrix data structure, the size of X is: {round(X.data.nbytes/1e6,2)}MB\")"
   ]
  },
  {
   "cell_type": "code",
   "execution_count": 10,
   "metadata": {},
   "outputs": [],
   "source": [
    "# Get the required IDs\n",
    "item_id_most_reviews, item_id_most_total, item_id_lowest_avg = get_id(X, item_inverse_mapper)"
   ]
  },
  {
   "cell_type": "code",
   "execution_count": 11,
   "metadata": {},
   "outputs": [
    {
     "name": "stdout",
     "output_type": "stream",
     "text": [
      "The item with the most reviews is:\n"
     ]
    },
    {
     "data": {
      "text/html": [
       "<a href=\"https://www.amazon.com/dp/B001MA0QY2\">B001MA0QY2</a>"
      ],
      "text/plain": [
       "<IPython.core.display.HTML object>"
      ]
     },
     "metadata": {},
     "output_type": "display_data"
    },
    {
     "name": "stdout",
     "output_type": "stream",
     "text": [
      "The item with the most total stars is:\n"
     ]
    },
    {
     "data": {
      "text/html": [
       "<a href=\"https://www.amazon.com/dp/B001MA0QY2\">B001MA0QY2</a>"
      ],
      "text/plain": [
       "<IPython.core.display.HTML object>"
      ]
     },
     "metadata": {},
     "output_type": "display_data"
    },
    {
     "name": "stdout",
     "output_type": "stream",
     "text": [
      "The item with the lowest average stars is:\n"
     ]
    },
    {
     "data": {
      "text/html": [
       "<a href=\"https://www.amazon.com/dp/0737104473\">0737104473</a>"
      ],
      "text/plain": [
       "<IPython.core.display.HTML object>"
      ]
     },
     "metadata": {},
     "output_type": "display_data"
    }
   ],
   "source": [
    "# Print the results\n",
    "print(\"The item with the most reviews is:\")\n",
    "display(HTML('<a href=\"%s\">%s</a>' % ('https://www.amazon.com/dp/' + item_id_most_reviews, \n",
    "                                      item_id_most_reviews)))\n",
    "\n",
    "print(\"The item with the most total stars is:\")\n",
    "display(HTML('<a href=\"%s\">%s</a>' % ('https://www.amazon.com/dp/' + item_id_most_total, \n",
    "                                      item_id_most_total)))\n",
    "\n",
    "print(\"The item with the lowest average stars is:\")\n",
    "display(HTML('<a href=\"%s\">%s</a>' % ('https://www.amazon.com/dp/' + item_id_lowest_avg, \n",
    "                                  item_id_lowest_avg)))"
   ]
  },
  {
   "cell_type": "code",
   "execution_count": 12,
   "metadata": {},
   "outputs": [
    {
     "data": {
      "image/png": "[encoded data removed]",
      "text/plain": [
       "<Figure size 432x432 with 1 Axes>"
      ]
     },
     "metadata": {
      "needs_background": "light"
     },
     "output_type": "display_data"
    },
    {
     "data": {
      "image/png": "[encoded data removed]",
      "text/plain": [
       "<Figure size 432x432 with 1 Axes>"
      ]
     },
     "metadata": {
      "needs_background": "light"
     },
     "output_type": "display_data"
    }
   ],
   "source": [
    "plot_hist(X)"
   ]
  },
  {
   "cell_type": "code",
   "execution_count": 13,
   "metadata": {},
   "outputs": [
    {
     "data": {
      "text/plain": [
       "0.911364808704877"
      ]
     },
     "execution_count": 13,
     "metadata": {},
     "output_type": "execute_result"
    }
   ],
   "source": [
    "# Proportion of users rating less than 3 items\n",
    "np.sum(X.getnnz(axis=0) < 3)/X.shape[1]"
   ]
  },
  {
   "cell_type": "code",
   "execution_count": 14,
   "metadata": {},
   "outputs": [
    {
     "data": {
      "text/plain": [
       "0.901791938533449"
      ]
     },
     "execution_count": 14,
     "metadata": {},
     "output_type": "execute_result"
    }
   ],
   "source": [
    "# Proportion of items receiving less than 12 ratings\n",
    "np.sum(X.getnnz(axis=1) < 12)/X.shape[0]"
   ]
  },
  {
   "cell_type": "markdown",
   "metadata": {},
   "source": [
    "> 1. Most users give ratings only for one or two items and most items receive less than 20 ratings.\n",
    "> 2. After log scaled, both the number of ratings per user and per item look like the exponential distribution."
   ]
  },
  {
   "cell_type": "markdown",
   "metadata": {},
   "source": [
    "## Find the similar products to the most reviewed product: B001MA0QY2"
   ]
  },
  {
   "cell_type": "code",
   "execution_count": 15,
   "metadata": {},
   "outputs": [],
   "source": [
    "most_reviewed = \"B001MA0QY2\"\n",
    "most_reviewed_ind = item_mapper[most_reviewed]\n",
    "most_reviewed_vec = X[most_reviewed_ind]"
   ]
  },
  {
   "cell_type": "code",
   "execution_count": 16,
   "metadata": {},
   "outputs": [
    {
     "name": "stdout",
     "output_type": "stream",
     "text": [
      "The 6 items most similar to the most reviewed product (exclusive) are:\n"
     ]
    },
    {
     "data": {
      "text/html": [
       "<a href=\"https://www.amazon.com/dp/B00864F83Q\">B00864F83Q</a>"
      ],
      "text/plain": [
       "<IPython.core.display.HTML object>"
      ]
     },
     "metadata": {},
     "output_type": "display_data"
    },
    {
     "data": {
      "text/html": [
       "<a href=\"https://www.amazon.com/dp/B00AFWZX64\">B00AFWZX64</a>"
      ],
      "text/plain": [
       "<IPython.core.display.HTML object>"
      ]
     },
     "metadata": {},
     "output_type": "display_data"
    },
    {
     "data": {
      "text/html": [
       "<a href=\"https://www.amazon.com/dp/B008JILW8Y\">B008JILW8Y</a>"
      ],
      "text/plain": [
       "<IPython.core.display.HTML object>"
      ]
     },
     "metadata": {},
     "output_type": "display_data"
    },
    {
     "data": {
      "text/html": [
       "<a href=\"https://www.amazon.com/dp/B008JJTETC\">B008JJTETC</a>"
      ],
      "text/plain": [
       "<IPython.core.display.HTML object>"
      ]
     },
     "metadata": {},
     "output_type": "display_data"
    },
    {
     "data": {
      "text/html": [
       "<a href=\"https://www.amazon.com/dp/B005FU9SWQ\">B005FU9SWQ</a>"
      ],
      "text/plain": [
       "<IPython.core.display.HTML object>"
      ]
     },
     "metadata": {},
     "output_type": "display_data"
    },
    {
     "data": {
      "text/html": [
       "<a href=\"https://www.amazon.com/dp/B005NTNNW0\">B005NTNNW0</a>"
      ],
      "text/plain": [
       "<IPython.core.display.HTML object>"
      ]
     },
     "metadata": {},
     "output_type": "display_data"
    }
   ],
   "source": [
    "# Using Euclidean distance\n",
    "neighbors_ind = fit_nn(X, most_reviewed_vec, 7)\n",
    "print_result(neighbors_ind, item_inverse_mapper)"
   ]
  },
  {
   "cell_type": "code",
   "execution_count": 17,
   "metadata": {},
   "outputs": [
    {
     "name": "stdout",
     "output_type": "stream",
     "text": [
      "The 6 items most similar to the most reviewed product (exclusive) are:\n"
     ]
    },
    {
     "data": {
      "text/html": [
       "<a href=\"https://www.amazon.com/dp/B007Q0WW0S\">B007Q0WW0S</a>"
      ],
      "text/plain": [
       "<IPython.core.display.HTML object>"
      ]
     },
     "metadata": {},
     "output_type": "display_data"
    },
    {
     "data": {
      "text/html": [
       "<a href=\"https://www.amazon.com/dp/B004V9600U\">B004V9600U</a>"
      ],
      "text/plain": [
       "<IPython.core.display.HTML object>"
      ]
     },
     "metadata": {},
     "output_type": "display_data"
    },
    {
     "data": {
      "text/html": [
       "<a href=\"https://www.amazon.com/dp/B00DVIHK92\">B00DVIHK92</a>"
      ],
      "text/plain": [
       "<IPython.core.display.HTML object>"
      ]
     },
     "metadata": {},
     "output_type": "display_data"
    },
    {
     "data": {
      "text/html": [
       "<a href=\"https://www.amazon.com/dp/B005GQTII8\">B005GQTII8</a>"
      ],
      "text/plain": [
       "<IPython.core.display.HTML object>"
      ]
     },
     "metadata": {},
     "output_type": "display_data"
    },
    {
     "data": {
      "text/html": [
       "<a href=\"https://www.amazon.com/dp/B009LO8WJW\">B009LO8WJW</a>"
      ],
      "text/plain": [
       "<IPython.core.display.HTML object>"
      ]
     },
     "metadata": {},
     "output_type": "display_data"
    },
    {
     "data": {
      "text/html": [
       "<a href=\"https://www.amazon.com/dp/B0070Z8JDS\">B0070Z8JDS</a>"
      ],
      "text/plain": [
       "<IPython.core.display.HTML object>"
      ]
     },
     "metadata": {},
     "output_type": "display_data"
    }
   ],
   "source": [
    "# Using cosine similarity\n",
    "neighbors_cos_ind = fit_nn(X, most_reviewed_vec, 7, 'cosine')\n",
    "print_result(neighbors_cos_ind, item_inverse_mapper)"
   ]
  },
  {
   "cell_type": "code",
   "execution_count": 18,
   "metadata": {},
   "outputs": [
    {
     "name": "stdout",
     "output_type": "stream",
     "text": [
      "The total popularity:\n"
     ]
    },
    {
     "data": {
      "text/html": [
       "<a href=\"https://www.amazon.com/dp/B001MA0QY2\">B001MA0QY2</a>"
      ],
      "text/plain": [
       "<IPython.core.display.HTML object>"
      ]
     },
     "metadata": {},
     "output_type": "display_data"
    },
    {
     "name": "stdout",
     "output_type": "stream",
     "text": [
      "Total stars: 19843\n"
     ]
    },
    {
     "data": {
      "text/html": [
       "<a href=\"https://www.amazon.com/dp/B00864F83Q\">B00864F83Q</a>"
      ],
      "text/plain": [
       "<IPython.core.display.HTML object>"
      ]
     },
     "metadata": {},
     "output_type": "display_data"
    },
    {
     "name": "stdout",
     "output_type": "stream",
     "text": [
      "Total stars: 5\n"
     ]
    },
    {
     "data": {
      "text/html": [
       "<a href=\"https://www.amazon.com/dp/B00AFWZX64\">B00AFWZX64</a>"
      ],
      "text/plain": [
       "<IPython.core.display.HTML object>"
      ]
     },
     "metadata": {},
     "output_type": "display_data"
    },
    {
     "name": "stdout",
     "output_type": "stream",
     "text": [
      "Total stars: 5\n"
     ]
    },
    {
     "data": {
      "text/html": [
       "<a href=\"https://www.amazon.com/dp/B008JILW8Y\">B008JILW8Y</a>"
      ],
      "text/plain": [
       "<IPython.core.display.HTML object>"
      ]
     },
     "metadata": {},
     "output_type": "display_data"
    },
    {
     "name": "stdout",
     "output_type": "stream",
     "text": [
      "Total stars: 5\n"
     ]
    },
    {
     "data": {
      "text/html": [
       "<a href=\"https://www.amazon.com/dp/B008JJTETC\">B008JJTETC</a>"
      ],
      "text/plain": [
       "<IPython.core.display.HTML object>"
      ]
     },
     "metadata": {},
     "output_type": "display_data"
    },
    {
     "name": "stdout",
     "output_type": "stream",
     "text": [
      "Total stars: 5\n"
     ]
    },
    {
     "data": {
      "text/html": [
       "<a href=\"https://www.amazon.com/dp/B005FU9SWQ\">B005FU9SWQ</a>"
      ],
      "text/plain": [
       "<IPython.core.display.HTML object>"
      ]
     },
     "metadata": {},
     "output_type": "display_data"
    },
    {
     "name": "stdout",
     "output_type": "stream",
     "text": [
      "Total stars: 5\n"
     ]
    },
    {
     "data": {
      "text/html": [
       "<a href=\"https://www.amazon.com/dp/B005NTNNW0\">B005NTNNW0</a>"
      ],
      "text/plain": [
       "<IPython.core.display.HTML object>"
      ]
     },
     "metadata": {},
     "output_type": "display_data"
    },
    {
     "name": "stdout",
     "output_type": "stream",
     "text": [
      "Total stars: 5\n"
     ]
    }
   ],
   "source": [
    "# Use Euclidean distance\n",
    "cal_total_popularity(X, neighbors_ind, item_inverse_mapper)"
   ]
  },
  {
   "cell_type": "code",
   "execution_count": 19,
   "metadata": {},
   "outputs": [
    {
     "name": "stdout",
     "output_type": "stream",
     "text": [
      "The total popularity:\n"
     ]
    },
    {
     "data": {
      "text/html": [
       "<a href=\"https://www.amazon.com/dp/B001MA0QY2\">B001MA0QY2</a>"
      ],
      "text/plain": [
       "<IPython.core.display.HTML object>"
      ]
     },
     "metadata": {},
     "output_type": "display_data"
    },
    {
     "name": "stdout",
     "output_type": "stream",
     "text": [
      "Total stars: 19843\n"
     ]
    },
    {
     "data": {
      "text/html": [
       "<a href=\"https://www.amazon.com/dp/B007Q0WW0S\">B007Q0WW0S</a>"
      ],
      "text/plain": [
       "<IPython.core.display.HTML object>"
      ]
     },
     "metadata": {},
     "output_type": "display_data"
    },
    {
     "name": "stdout",
     "output_type": "stream",
     "text": [
      "Total stars: 2527\n"
     ]
    },
    {
     "data": {
      "text/html": [
       "<a href=\"https://www.amazon.com/dp/B004V9600U\">B004V9600U</a>"
      ],
      "text/plain": [
       "<IPython.core.display.HTML object>"
      ]
     },
     "metadata": {},
     "output_type": "display_data"
    },
    {
     "name": "stdout",
     "output_type": "stream",
     "text": [
      "Total stars: 266\n"
     ]
    },
    {
     "data": {
      "text/html": [
       "<a href=\"https://www.amazon.com/dp/B00DVIHK92\">B00DVIHK92</a>"
      ],
      "text/plain": [
       "<IPython.core.display.HTML object>"
      ]
     },
     "metadata": {},
     "output_type": "display_data"
    },
    {
     "name": "stdout",
     "output_type": "stream",
     "text": [
      "Total stars: 5\n"
     ]
    },
    {
     "data": {
      "text/html": [
       "<a href=\"https://www.amazon.com/dp/B005GQTII8\">B005GQTII8</a>"
      ],
      "text/plain": [
       "<IPython.core.display.HTML object>"
      ]
     },
     "metadata": {},
     "output_type": "display_data"
    },
    {
     "name": "stdout",
     "output_type": "stream",
     "text": [
      "Total stars: 5\n"
     ]
    },
    {
     "data": {
      "text/html": [
       "<a href=\"https://www.amazon.com/dp/B009LO8WJW\">B009LO8WJW</a>"
      ],
      "text/plain": [
       "<IPython.core.display.HTML object>"
      ]
     },
     "metadata": {},
     "output_type": "display_data"
    },
    {
     "name": "stdout",
     "output_type": "stream",
     "text": [
      "Total stars: 5\n"
     ]
    },
    {
     "data": {
      "text/html": [
       "<a href=\"https://www.amazon.com/dp/B0070Z8JDS\">B0070Z8JDS</a>"
      ],
      "text/plain": [
       "<IPython.core.display.HTML object>"
      ]
     },
     "metadata": {},
     "output_type": "display_data"
    },
    {
     "name": "stdout",
     "output_type": "stream",
     "text": [
      "Total stars: 5\n"
     ]
    }
   ],
   "source": [
    "# Use Cosine similarity\n",
    "cal_total_popularity(X, neighbors_cos_ind, item_inverse_mapper)"
   ]
  }
 ],
 "metadata": {
  "kernelspec": {
   "display_name": "Python 3",
   "language": "python",
   "name": "python3"
  },
  "language_info": {
   "codemirror_mode": {
    "name": "ipython",
    "version": 3
   },
   "file_extension": ".py",
   "mimetype": "text/x-python",
   "name": "python",
   "nbconvert_exporter": "python",
   "pygments_lexer": "ipython3",
   "version": "3.7.6"
  }
 },
 "nbformat": 4,
 "nbformat_minor": 4
}
