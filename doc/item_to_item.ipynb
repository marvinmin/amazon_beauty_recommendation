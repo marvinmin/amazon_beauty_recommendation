{
 "cells": [
  {
   "cell_type": "code",
   "execution_count": 33,
   "metadata": {},
   "outputs": [],
   "source": [
    "import os\n",
    "import json\n",
    "import pickle\n",
    "import numpy as np\n",
    "import random\n",
    "import pandas as pd\n",
    "import matplotlib.pyplot as plt\n",
    "import seaborn as sns\n",
    "sns.set_style(\"whitegrid\")\n",
    "from IPython.core.display import display, HTML\n",
    "\n",
    "from datetime import datetime\n",
    "\n",
    "from scipy import sparse\n",
    "from sklearn.metrics.pairwise import cosine_similarity\n",
    "\n",
    "# Load the functions\n",
    "import sys\n",
    "sys.path.insert(1, '../src')\n",
    "from preprocessing_eda import *"
   ]
  },
  {
   "cell_type": "code",
   "execution_count": 2,
   "metadata": {},
   "outputs": [],
   "source": [
    "if not os.path.isfile(\"../data/clean/TrainData.pkl\"):\n",
    "    df_train.sort_values(by = \"Timestamp\", inplace = True)\n",
    "    df_train.reset_index(drop = True, inplace = True)\n",
    "    df_train.to_pickle(\"../data/clean/TrainData.pkl\")\n",
    "else:\n",
    "    df_train = pd.read_pickle(\"../data/clean/TrainData.pkl\")\n",
    "\n",
    "if not os.path.isfile(\"../data/clean/TestData.pkl\"):\n",
    "    df_test.sort_values(by = \"Timestamp\", inplace = True)\n",
    "    df_test.reset_index(drop = True, inplace = True)\n",
    "    df_test.to_pickle(\"../data/clean/TestData.pkl\")\n",
    "else:\n",
    "    df_test = pd.read_pickle(\"../data/clean/TestData.pkl\")"
   ]
  },
  {
   "cell_type": "code",
   "execution_count": 3,
   "metadata": {},
   "outputs": [
    {
     "data": {
      "text/html": [
       "<div>\n",
       "<style scoped>\n",
       "    .dataframe tbody tr th:only-of-type {\n",
       "        vertical-align: middle;\n",
       "    }\n",
       "\n",
       "    .dataframe tbody tr th {\n",
       "        vertical-align: top;\n",
       "    }\n",
       "\n",
       "    .dataframe thead th {\n",
       "        text-align: right;\n",
       "    }\n",
       "</style>\n",
       "<table border=\"1\" class=\"dataframe\">\n",
       "  <thead>\n",
       "    <tr style=\"text-align: right;\">\n",
       "      <th></th>\n",
       "      <th>UserId</th>\n",
       "      <th>ProductId</th>\n",
       "      <th>Rating</th>\n",
       "      <th>Timestamp</th>\n",
       "    </tr>\n",
       "  </thead>\n",
       "  <tbody>\n",
       "    <tr>\n",
       "      <th>0</th>\n",
       "      <td>A27ZIX4Y4A8M65</td>\n",
       "      <td>B000005J9Q</td>\n",
       "      <td>4.0</td>\n",
       "      <td>1998-10-18 17:00:00</td>\n",
       "    </tr>\n",
       "    <tr>\n",
       "      <th>1</th>\n",
       "      <td>AXUC3MVPBT57K</td>\n",
       "      <td>B000005Z5L</td>\n",
       "      <td>5.0</td>\n",
       "      <td>1998-11-28 16:00:00</td>\n",
       "    </tr>\n",
       "    <tr>\n",
       "      <th>2</th>\n",
       "      <td>A18XELRYWMR80B</td>\n",
       "      <td>B00000IAI4</td>\n",
       "      <td>5.0</td>\n",
       "      <td>1999-03-15 17:00:00</td>\n",
       "    </tr>\n",
       "    <tr>\n",
       "      <th>3</th>\n",
       "      <td>A22S1QH6GDUE1V</td>\n",
       "      <td>B000026BTH</td>\n",
       "      <td>5.0</td>\n",
       "      <td>1999-06-02 17:00:00</td>\n",
       "    </tr>\n",
       "    <tr>\n",
       "      <th>4</th>\n",
       "      <td>AUAZWQ8DULN43</td>\n",
       "      <td>B0000014DT</td>\n",
       "      <td>4.0</td>\n",
       "      <td>1999-09-13 17:00:00</td>\n",
       "    </tr>\n",
       "  </tbody>\n",
       "</table>\n",
       "</div>"
      ],
      "text/plain": [
       "           UserId   ProductId  Rating           Timestamp\n",
       "0  A27ZIX4Y4A8M65  B000005J9Q     4.0 1998-10-18 17:00:00\n",
       "1   AXUC3MVPBT57K  B000005Z5L     5.0 1998-11-28 16:00:00\n",
       "2  A18XELRYWMR80B  B00000IAI4     5.0 1999-03-15 17:00:00\n",
       "3  A22S1QH6GDUE1V  B000026BTH     5.0 1999-06-02 17:00:00\n",
       "4   AUAZWQ8DULN43  B0000014DT     4.0 1999-09-13 17:00:00"
      ]
     },
     "execution_count": 3,
     "metadata": {},
     "output_type": "execute_result"
    }
   ],
   "source": [
    "df_train.head()"
   ]
  },
  {
   "cell_type": "markdown",
   "metadata": {},
   "source": [
    "## Use the most similar item close to the highest rating the user gives to recommend"
   ]
  },
  {
   "cell_type": "code",
   "execution_count": 4,
   "metadata": {},
   "outputs": [],
   "source": [
    "def recommend_for_user(data, user_id, N=5, user_key='UserId', item_key='ProductId'):\n",
    "    \"\"\"\n",
    "    Use the cosine similarity between items to make recommendations for a given user\n",
    "    \n",
    "    Parameters\n",
    "    ----------\n",
    "    data: pandas.DataFrame\n",
    "        The original dataframe that stores the users' ratings information\n",
    "    user_id: str\n",
    "        The ID of the user to make recommendations\n",
    "    N: int (default=5)\n",
    "        The number of recommendations\n",
    "    ser_key: string\n",
    "        The column in ratings that contains the users id\n",
    "    item_key: string\n",
    "        The column in ratings that contains the items id\n",
    "    \n",
    "    Return\n",
    "    ------\n",
    "    list of strings\n",
    "        The list of IDs of the recommended items.\n",
    "    \"\"\" \n",
    "    num_users = len(set(data[user_key]))\n",
    "    num_products = len(set(data[item_key]))\n",
    "    X, user_mapper, item_mapper, user_inverse_mapper, item_inverse_mapper, user_ind, item_ind = create_X(data, n=num_products, d=num_users, user_key=user_key, item_key=item_key)\n",
    "    Y = X.T\n",
    "    # Set dense_output to False to ge the sparse represent\n",
    "    similarity_matrix = cosine_similarity(X, dense_output=False)\n",
    "    \n",
    "    user_ind = user_mapper[user_id]\n",
    "    arr1, arr2 = Y[user_ind].nonzero()\n",
    "    \n",
    "    ratings = []\n",
    "    for i,j in zip(arr1, arr2):\n",
    "        ratings.append(Y[user_ind][i, j])\n",
    "    max_rating = np.max(ratings)\n",
    "    max_rating_ind = np.argmax(ratings)\n",
    "    \n",
    "    similar_arr1, similar_arr2 = similarity_matrix[arr2[max_rating_ind]].nonzero()\n",
    "    \n",
    "    similar_dict = {}\n",
    "    for i, j  in zip(similar_arr1, similar_arr2):\n",
    "        similar_dict[j] = similarity_matrix[arr2[max_rating_ind]][i,j]\n",
    "    \n",
    "    recom_list = sorted(similar_dict, key=similar_dict.get, reverse=True)\n",
    "    \n",
    "    res = []\n",
    "    \n",
    "    for ind in recom_list[1:]:\n",
    "        if Y[user_ind][0, ind] == 0:\n",
    "            res.append(item_inverse_mapper[ind])\n",
    "        if len(res) >= N:\n",
    "            break\n",
    "    return res"
   ]
  },
  {
   "cell_type": "code",
   "execution_count": 5,
   "metadata": {},
   "outputs": [],
   "source": [
    "result = recommend_for_user(df_train, user_id='A3RV5ZUA8W67FK')"
   ]
  },
  {
   "cell_type": "code",
   "execution_count": 6,
   "metadata": {},
   "outputs": [
    {
     "data": {
      "text/html": [
       "<a href=\"https://www.amazon.com/dp/B000U8J8SM\">B000U8J8SM</a>"
      ],
      "text/plain": [
       "<IPython.core.display.HTML object>"
      ]
     },
     "metadata": {},
     "output_type": "display_data"
    },
    {
     "data": {
      "text/html": [
       "<a href=\"https://www.amazon.com/dp/B00C4A4YHY\">B00C4A4YHY</a>"
      ],
      "text/plain": [
       "<IPython.core.display.HTML object>"
      ]
     },
     "metadata": {},
     "output_type": "display_data"
    },
    {
     "data": {
      "text/html": [
       "<a href=\"https://www.amazon.com/dp/B00097E1UO\">B00097E1UO</a>"
      ],
      "text/plain": [
       "<IPython.core.display.HTML object>"
      ]
     },
     "metadata": {},
     "output_type": "display_data"
    },
    {
     "data": {
      "text/html": [
       "<a href=\"https://www.amazon.com/dp/B0061YLQTI\">B0061YLQTI</a>"
      ],
      "text/plain": [
       "<IPython.core.display.HTML object>"
      ]
     },
     "metadata": {},
     "output_type": "display_data"
    },
    {
     "data": {
      "text/html": [
       "<a href=\"https://www.amazon.com/dp/B0051U562Q\">B0051U562Q</a>"
      ],
      "text/plain": [
       "<IPython.core.display.HTML object>"
      ]
     },
     "metadata": {},
     "output_type": "display_data"
    }
   ],
   "source": [
    "for item in result:\n",
    "    display(HTML('<a href=\"%s\">%s</a>' % ('https://www.amazon.com/dp/' + item, \n",
    "                                      item)))"
   ]
  },
  {
   "cell_type": "code",
   "execution_count": 7,
   "metadata": {},
   "outputs": [
    {
     "data": {
      "text/html": [
       "<a href=\"https://www.amazon.com/dp/B0016P4P4K\">B0016P4P4K</a>"
      ],
      "text/plain": [
       "<IPython.core.display.HTML object>"
      ]
     },
     "metadata": {},
     "output_type": "display_data"
    }
   ],
   "source": [
    "for item in df_train[df_train['UserId']=='A3RV5ZUA8W67FK']['ProductId']:\n",
    "    display(HTML('<a href=\"%s\">%s</a>' % ('https://www.amazon.com/dp/' + item, \n",
    "                                      item)))"
   ]
  },
  {
   "cell_type": "code",
   "execution_count": 23,
   "metadata": {},
   "outputs": [],
   "source": [
    "num_users = len(set(df_train['UserId']))\n",
    "num_products = len(set(df_train['ProductId']))\n",
    "X, user_mapper, item_mapper, user_inverse_mapper, item_inverse_mapper, user_ind, item_ind = create_X(df_train, n=num_products, d=num_users, user_key='UserId', item_key='ProductId')"
   ]
  },
  {
   "cell_type": "code",
   "execution_count": 9,
   "metadata": {},
   "outputs": [
    {
     "name": "stdout",
     "output_type": "stream",
     "text": [
      "[[0.0838591]]\n",
      "[[0.0838591]]\n",
      "[[0.0838591]]\n",
      "[[0.0838591]]\n",
      "[[0.0838591]]\n"
     ]
    }
   ],
   "source": [
    "for item in result:\n",
    "    print(cosine_similarity(X[item_mapper['B0016P4P4K']], X[item_mapper[item]]))"
   ]
  },
  {
   "cell_type": "markdown",
   "metadata": {},
   "source": [
    "## Use the weighted average rating to recommend"
   ]
  },
  {
   "cell_type": "code",
   "execution_count": 10,
   "metadata": {},
   "outputs": [],
   "source": [
    "def IB_CF(data, user_id, N=5, user_key='UserId', item_key='ProductId'):\n",
    "    \"\"\"\n",
    "    \n",
    "    \"\"\"\n",
    "    num_users = len(set(data[user_key]))\n",
    "    num_products = len(set(data[item_key]))\n",
    "    X, user_mapper, item_mapper, user_inverse_mapper, item_inverse_mapper, user_ind, item_ind = create_X(data, n=num_products, d=num_users, user_key=user_key, item_key=item_key)\n",
    "    Y = sparse_matrix((data[\"Rating\"], (user_ind, item_ind)), shape=(num_users, num_products))\n",
    "    # Set dense_output to False to ge the sparse represent\n",
    "    similarity_matrix = cosine_similarity(X, dense_output=False)\n",
    "    \n",
    "    user = user_mapper[user_id]\n",
    "    ratings = np.dot(Y[user], similarity_matrix)\n",
    "    _, arr = ratings.nonzero()\n",
    "    res = {}\n",
    "    for ind in arr:\n",
    "        if Y[user][0,ind] == 0:\n",
    "            res[ind] = ratings[0, ind]\n",
    "            \n",
    "    result = sorted(res, key=res.get, reverse=True)[:N]\n",
    "    return result"
   ]
  },
  {
   "cell_type": "code",
   "execution_count": 11,
   "metadata": {},
   "outputs": [],
   "source": [
    "result1 = IB_CF(df_train, user_id='A3RV5ZUA8W67FK')"
   ]
  },
  {
   "cell_type": "code",
   "execution_count": 12,
   "metadata": {},
   "outputs": [
    {
     "data": {
      "text/html": [
       "<a href=\"https://www.amazon.com/dp/B004XMUVSC\">B004XMUVSC</a>"
      ],
      "text/plain": [
       "<IPython.core.display.HTML object>"
      ]
     },
     "metadata": {},
     "output_type": "display_data"
    },
    {
     "data": {
      "text/html": [
       "<a href=\"https://www.amazon.com/dp/B0051U562Q\">B0051U562Q</a>"
      ],
      "text/plain": [
       "<IPython.core.display.HTML object>"
      ]
     },
     "metadata": {},
     "output_type": "display_data"
    },
    {
     "data": {
      "text/html": [
       "<a href=\"https://www.amazon.com/dp/B0061YLQTI\">B0061YLQTI</a>"
      ],
      "text/plain": [
       "<IPython.core.display.HTML object>"
      ]
     },
     "metadata": {},
     "output_type": "display_data"
    },
    {
     "data": {
      "text/html": [
       "<a href=\"https://www.amazon.com/dp/B00097E1UO\">B00097E1UO</a>"
      ],
      "text/plain": [
       "<IPython.core.display.HTML object>"
      ]
     },
     "metadata": {},
     "output_type": "display_data"
    },
    {
     "data": {
      "text/html": [
       "<a href=\"https://www.amazon.com/dp/B00C4A4YHY\">B00C4A4YHY</a>"
      ],
      "text/plain": [
       "<IPython.core.display.HTML object>"
      ]
     },
     "metadata": {},
     "output_type": "display_data"
    }
   ],
   "source": [
    "for item_ind in result1:\n",
    "    display(HTML('<a href=\"%s\">%s</a>' % ('https://www.amazon.com/dp/' + item_inverse_mapper[item_ind], \n",
    "                                      item_inverse_mapper[item_ind])))"
   ]
  },
  {
   "cell_type": "code",
   "execution_count": 13,
   "metadata": {},
   "outputs": [
    {
     "data": {
      "text/plain": [
       "[121081, 123545, 138436, 8723, 194851]"
      ]
     },
     "execution_count": 13,
     "metadata": {},
     "output_type": "execute_result"
    }
   ],
   "source": [
    "result1"
   ]
  },
  {
   "cell_type": "code",
   "execution_count": 14,
   "metadata": {},
   "outputs": [
    {
     "name": "stdout",
     "output_type": "stream",
     "text": [
      "[[0.0838591]]\n",
      "[[0.0838591]]\n",
      "[[0.0838591]]\n",
      "[[0.0838591]]\n",
      "[[0.0838591]]\n"
     ]
    }
   ],
   "source": [
    "for item_ind in result1:\n",
    "    print(cosine_similarity(X[item_mapper['B0016P4P4K']], X[item_ind]))"
   ]
  },
  {
   "cell_type": "markdown",
   "metadata": {},
   "source": [
    "## Sanity check"
   ]
  },
  {
   "cell_type": "code",
   "execution_count": 15,
   "metadata": {},
   "outputs": [],
   "source": [
    "similarity_matrix = cosine_similarity(X, dense_output=False)"
   ]
  },
  {
   "cell_type": "code",
   "execution_count": 16,
   "metadata": {},
   "outputs": [],
   "source": [
    "_, temp_arr = similarity_matrix[item_mapper['B0016P4P4K']].nonzero()"
   ]
  },
  {
   "cell_type": "code",
   "execution_count": 17,
   "metadata": {},
   "outputs": [],
   "source": [
    "my_dict = {}\n",
    "for ind in temp_arr:\n",
    "    my_dict[ind] = similarity_matrix[item_mapper['B0016P4P4K']][0, ind]\n",
    "sorted_ind = sorted(my_dict, key=my_dict.get, reverse=True)"
   ]
  },
  {
   "cell_type": "code",
   "execution_count": 18,
   "metadata": {},
   "outputs": [
    {
     "data": {
      "text/plain": [
       "[31941, 194851, 8723, 138436, 123545]"
      ]
     },
     "execution_count": 18,
     "metadata": {},
     "output_type": "execute_result"
    }
   ],
   "source": [
    "sorted_ind[1:6]"
   ]
  },
  {
   "cell_type": "code",
   "execution_count": 20,
   "metadata": {},
   "outputs": [
    {
     "name": "stdout",
     "output_type": "stream",
     "text": [
      "31941\n",
      "194851\n",
      "8723\n",
      "138436\n",
      "123545\n"
     ]
    }
   ],
   "source": [
    "for i in result:\n",
    "    print(item_mapper[i])"
   ]
  }
 ],
 "metadata": {
  "kernelspec": {
   "display_name": "Python 3",
   "language": "python",
   "name": "python3"
  },
  "language_info": {
   "codemirror_mode": {
    "name": "ipython",
    "version": 3
   },
   "file_extension": ".py",
   "mimetype": "text/x-python",
   "name": "python",
   "nbconvert_exporter": "python",
   "pygments_lexer": "ipython3",
   "version": "3.7.6"
  }
 },
 "nbformat": 4,
 "nbformat_minor": 4
}
