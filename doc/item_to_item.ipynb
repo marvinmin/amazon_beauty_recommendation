{
 "cells": [
  {
   "cell_type": "code",
   "execution_count": 1,
   "metadata": {},
   "outputs": [],
   "source": [
    "import os\n",
    "import json\n",
    "import pickle\n",
    "import numpy as np\n",
    "import random\n",
    "import pandas as pd\n",
    "import matplotlib.pyplot as plt\n",
    "from IPython.core.display import display, HTML\n",
    "from scipy.sparse import csr_matrix as sparse_matrix\n",
    "from scipy.sparse import find\n",
    "from sklearn.neighbors import NearestNeighbors\n",
    "from sklearn.decomposition import TruncatedSVD\n",
    "\n",
    "from sklearn.metrics.pairwise import cosine_similarity\n",
    "\n",
    "# Load the functions\n",
    "import sys\n",
    "sys.path.insert(1, '../src')\n",
    "from preprocessing_eda import *"
   ]
  },
  {
   "cell_type": "code",
   "execution_count": 3,
   "metadata": {},
   "outputs": [],
   "source": [
    "df_train = pd.read_csv(\"../data/clean/df_train.csv\", index_col=0)"
   ]
  },
  {
   "cell_type": "code",
   "execution_count": 4,
   "metadata": {},
   "outputs": [
    {
     "data": {
      "text/html": [
       "<div>\n",
       "<style scoped>\n",
       "    .dataframe tbody tr th:only-of-type {\n",
       "        vertical-align: middle;\n",
       "    }\n",
       "\n",
       "    .dataframe tbody tr th {\n",
       "        vertical-align: top;\n",
       "    }\n",
       "\n",
       "    .dataframe thead th {\n",
       "        text-align: right;\n",
       "    }\n",
       "</style>\n",
       "<table border=\"1\" class=\"dataframe\">\n",
       "  <thead>\n",
       "    <tr style=\"text-align: right;\">\n",
       "      <th></th>\n",
       "      <th>UserId</th>\n",
       "      <th>ProductId</th>\n",
       "      <th>Rating</th>\n",
       "      <th>Timestamp</th>\n",
       "    </tr>\n",
       "  </thead>\n",
       "  <tbody>\n",
       "    <tr>\n",
       "      <th>691810</th>\n",
       "      <td>A2O5EXPH8UKUS3</td>\n",
       "      <td>B001FSK8PS</td>\n",
       "      <td>5.0</td>\n",
       "      <td>1372204800</td>\n",
       "    </tr>\n",
       "    <tr>\n",
       "      <th>515687</th>\n",
       "      <td>A3I64V4AR136KY</td>\n",
       "      <td>B00121UVU0</td>\n",
       "      <td>1.0</td>\n",
       "      <td>1352246400</td>\n",
       "    </tr>\n",
       "    <tr>\n",
       "      <th>366115</th>\n",
       "      <td>A2N56YII67PSHS</td>\n",
       "      <td>B000P20RQU</td>\n",
       "      <td>5.0</td>\n",
       "      <td>1359072000</td>\n",
       "    </tr>\n",
       "    <tr>\n",
       "      <th>571174</th>\n",
       "      <td>A3RV5ZUA8W67FK</td>\n",
       "      <td>B0016P4P4K</td>\n",
       "      <td>5.0</td>\n",
       "      <td>1350432000</td>\n",
       "    </tr>\n",
       "    <tr>\n",
       "      <th>1664068</th>\n",
       "      <td>A2XRZV63X79YSJ</td>\n",
       "      <td>B008EKY8VK</td>\n",
       "      <td>4.0</td>\n",
       "      <td>1378252800</td>\n",
       "    </tr>\n",
       "  </tbody>\n",
       "</table>\n",
       "</div>"
      ],
      "text/plain": [
       "                 UserId   ProductId  Rating   Timestamp\n",
       "691810   A2O5EXPH8UKUS3  B001FSK8PS     5.0  1372204800\n",
       "515687   A3I64V4AR136KY  B00121UVU0     1.0  1352246400\n",
       "366115   A2N56YII67PSHS  B000P20RQU     5.0  1359072000\n",
       "571174   A3RV5ZUA8W67FK  B0016P4P4K     5.0  1350432000\n",
       "1664068  A2XRZV63X79YSJ  B008EKY8VK     4.0  1378252800"
      ]
     },
     "execution_count": 4,
     "metadata": {},
     "output_type": "execute_result"
    }
   ],
   "source": [
    "df_train.head()"
   ]
  },
  {
   "cell_type": "markdown",
   "metadata": {},
   "source": [
    "## Use the most similar item close to the highest rating the user gives to recommend"
   ]
  },
  {
   "cell_type": "code",
   "execution_count": 5,
   "metadata": {},
   "outputs": [],
   "source": [
    "def recommend_for_user(data, user_id, N=5, user_key='UserId', item_key='ProductId'):\n",
    "    \"\"\"\n",
    "    Use the cosine similarity between items to make recommendations for a given user\n",
    "    \n",
    "    Parameters\n",
    "    ----------\n",
    "    data: pandas.DataFrame\n",
    "        The original dataframe that stores the users' ratings information\n",
    "    user_id: str\n",
    "        The ID of the user to make recommendations\n",
    "    N: int (default=5)\n",
    "        The number of recommendations\n",
    "    ser_key: string\n",
    "        The column in ratings that contains the users id\n",
    "    item_key: string\n",
    "        The column in ratings that contains the items id\n",
    "    \n",
    "    Return\n",
    "    ------\n",
    "    list of strings\n",
    "        The list of IDs of the recommended items.\n",
    "    \"\"\" \n",
    "    num_users = len(set(data[user_key]))\n",
    "    num_products = len(set(data[item_key]))\n",
    "    X, user_mapper, item_mapper, user_inverse_mapper, item_inverse_mapper, user_ind, item_ind = create_X(data, n=num_products, d=num_users, user_key=user_key, item_key=item_key)\n",
    "    Y = sparse_matrix((data[\"Rating\"], (user_ind, item_ind)), shape=(num_users, num_products))\n",
    "    # Set dense_output to False to ge the sparse represent\n",
    "    similarity_matrix = cosine_similarity(X, dense_output=False)\n",
    "    \n",
    "    user_ind = user_mapper[user_id]\n",
    "    arr1, arr2 = Y[user_ind].nonzero()\n",
    "    \n",
    "    ratings = []\n",
    "    for i,j in zip(arr1, arr2):\n",
    "        ratings.append(Y[user_ind][i, j])\n",
    "    max_rating = np.max(ratings)\n",
    "    max_rating_ind = np.argmax(ratings)\n",
    "    \n",
    "    similar_arr1, similar_arr2 = similarity_matrix[arr2[max_rating_ind]].nonzero()\n",
    "    \n",
    "    similar_dict = {}\n",
    "    for i, j  in zip(similar_arr1, similar_arr2):\n",
    "        similar_dict[j] = similarity_matrix[arr2[max_rating_ind]][i,j]\n",
    "    \n",
    "    recom_list = sorted(similar_dict, key=similar_dict.get, reverse=True)\n",
    "    \n",
    "    res = []\n",
    "    \n",
    "    for ind in recom_list[1:]:\n",
    "        if Y[user_ind][0, ind] == 0:\n",
    "            res.append(item_inverse_mapper[ind])\n",
    "        if len(res) >= N:\n",
    "            break\n",
    "    return res"
   ]
  },
  {
   "cell_type": "code",
   "execution_count": 22,
   "metadata": {},
   "outputs": [],
   "source": [
    "result = recommend_for_user(df_train, user_id='A3RV5ZUA8W67FK')"
   ]
  },
  {
   "cell_type": "code",
   "execution_count": 23,
   "metadata": {},
   "outputs": [
    {
     "data": {
      "text/html": [
       "<a href=\"https://www.amazon.com/dp/B00097E1UO\">B00097E1UO</a>"
      ],
      "text/plain": [
       "<IPython.core.display.HTML object>"
      ]
     },
     "metadata": {},
     "output_type": "display_data"
    },
    {
     "data": {
      "text/html": [
       "<a href=\"https://www.amazon.com/dp/B003F6119U\">B003F6119U</a>"
      ],
      "text/plain": [
       "<IPython.core.display.HTML object>"
      ]
     },
     "metadata": {},
     "output_type": "display_data"
    },
    {
     "data": {
      "text/html": [
       "<a href=\"https://www.amazon.com/dp/B00BIP6PF0\">B00BIP6PF0</a>"
      ],
      "text/plain": [
       "<IPython.core.display.HTML object>"
      ]
     },
     "metadata": {},
     "output_type": "display_data"
    },
    {
     "data": {
      "text/html": [
       "<a href=\"https://www.amazon.com/dp/B00CBI16K2\">B00CBI16K2</a>"
      ],
      "text/plain": [
       "<IPython.core.display.HTML object>"
      ]
     },
     "metadata": {},
     "output_type": "display_data"
    },
    {
     "data": {
      "text/html": [
       "<a href=\"https://www.amazon.com/dp/B007C74JAQ\">B007C74JAQ</a>"
      ],
      "text/plain": [
       "<IPython.core.display.HTML object>"
      ]
     },
     "metadata": {},
     "output_type": "display_data"
    }
   ],
   "source": [
    "for item in result:\n",
    "    display(HTML('<a href=\"%s\">%s</a>' % ('https://www.amazon.com/dp/' + item, \n",
    "                                      item)))"
   ]
  },
  {
   "cell_type": "code",
   "execution_count": 25,
   "metadata": {},
   "outputs": [
    {
     "data": {
      "text/html": [
       "<a href=\"https://www.amazon.com/dp/B0016P4P4K\">B0016P4P4K</a>"
      ],
      "text/plain": [
       "<IPython.core.display.HTML object>"
      ]
     },
     "metadata": {},
     "output_type": "display_data"
    }
   ],
   "source": [
    "for item in df_train[df_train['UserId']=='A3RV5ZUA8W67FK']['ProductId']:\n",
    "    display(HTML('<a href=\"%s\">%s</a>' % ('https://www.amazon.com/dp/' + item, \n",
    "                                      item)))"
   ]
  },
  {
   "cell_type": "code",
   "execution_count": 11,
   "metadata": {},
   "outputs": [],
   "source": [
    "num_users = len(set(df_train['UserId']))\n",
    "num_products = len(set(df_train['ProductId']))\n",
    "X, user_mapper, item_mapper, user_inverse_mapper, item_inverse_mapper, user_ind, item_ind = create_X(df_train, n=num_products, d=num_users, user_key='UserId', item_key='ProductId')"
   ]
  },
  {
   "cell_type": "code",
   "execution_count": 26,
   "metadata": {},
   "outputs": [
    {
     "name": "stdout",
     "output_type": "stream",
     "text": [
      "[[0.10166046]]\n",
      "[[0.06562154]]\n",
      "[[0.05750784]]\n",
      "[[0.05328456]]\n",
      "[[0.05083023]]\n"
     ]
    }
   ],
   "source": [
    "for item in result:\n",
    "    print(cosine_similarity(X[item_mapper['B0016P4P4K']], X[item_mapper[item]]))"
   ]
  },
  {
   "cell_type": "markdown",
   "metadata": {},
   "source": [
    "## Use the weighted average rating to recommend"
   ]
  },
  {
   "cell_type": "code",
   "execution_count": 27,
   "metadata": {},
   "outputs": [],
   "source": [
    "def IB_CF(data, user_id, N=5, user_key='UserId', item_key='ProductId'):\n",
    "    \"\"\"\n",
    "    \n",
    "    \"\"\"\n",
    "    num_users = len(set(data[user_key]))\n",
    "    num_products = len(set(data[item_key]))\n",
    "    X, user_mapper, item_mapper, user_inverse_mapper, item_inverse_mapper, user_ind, item_ind = create_X(data, n=num_products, d=num_users, user_key=user_key, item_key=item_key)\n",
    "    Y = sparse_matrix((data[\"Rating\"], (user_ind, item_ind)), shape=(num_users, num_products))\n",
    "    # Set dense_output to False to ge the sparse represent\n",
    "    similarity_matrix = cosine_similarity(X, dense_output=False)\n",
    "    \n",
    "    user = user_mapper[user_id]\n",
    "    ratings = np.dot(Y[user], similarity_matrix)\n",
    "    _, arr = ratings.nonzero()\n",
    "    res = {}\n",
    "    for ind in arr:\n",
    "        if Y[user][0,ind] == 0:\n",
    "            res[ind] = ratings[0, ind]\n",
    "            \n",
    "    result = sorted(res, key=res.get, reverse=True)[:N]\n",
    "    return result"
   ]
  },
  {
   "cell_type": "code",
   "execution_count": 28,
   "metadata": {},
   "outputs": [],
   "source": [
    "result1 = IB_CF(df_train, user_id='A3RV5ZUA8W67FK')"
   ]
  },
  {
   "cell_type": "code",
   "execution_count": 29,
   "metadata": {},
   "outputs": [
    {
     "data": {
      "text/html": [
       "<a href=\"https://www.amazon.com/dp/B00097E1UO\">B00097E1UO</a>"
      ],
      "text/plain": [
       "<IPython.core.display.HTML object>"
      ]
     },
     "metadata": {},
     "output_type": "display_data"
    },
    {
     "data": {
      "text/html": [
       "<a href=\"https://www.amazon.com/dp/B003F6119U\">B003F6119U</a>"
      ],
      "text/plain": [
       "<IPython.core.display.HTML object>"
      ]
     },
     "metadata": {},
     "output_type": "display_data"
    },
    {
     "data": {
      "text/html": [
       "<a href=\"https://www.amazon.com/dp/B00BIP6PF0\">B00BIP6PF0</a>"
      ],
      "text/plain": [
       "<IPython.core.display.HTML object>"
      ]
     },
     "metadata": {},
     "output_type": "display_data"
    },
    {
     "data": {
      "text/html": [
       "<a href=\"https://www.amazon.com/dp/B00CBI16K2\">B00CBI16K2</a>"
      ],
      "text/plain": [
       "<IPython.core.display.HTML object>"
      ]
     },
     "metadata": {},
     "output_type": "display_data"
    },
    {
     "data": {
      "text/html": [
       "<a href=\"https://www.amazon.com/dp/B007C74JAQ\">B007C74JAQ</a>"
      ],
      "text/plain": [
       "<IPython.core.display.HTML object>"
      ]
     },
     "metadata": {},
     "output_type": "display_data"
    }
   ],
   "source": [
    "for item_ind in result1:\n",
    "    display(HTML('<a href=\"%s\">%s</a>' % ('https://www.amazon.com/dp/' + item_inverse_mapper[item_ind], \n",
    "                                      item_inverse_mapper[item_ind])))"
   ]
  },
  {
   "cell_type": "code",
   "execution_count": 30,
   "metadata": {},
   "outputs": [
    {
     "data": {
      "text/plain": [
       "[7826, 80749, 168527, 173611, 133298]"
      ]
     },
     "execution_count": 30,
     "metadata": {},
     "output_type": "execute_result"
    }
   ],
   "source": [
    "result1"
   ]
  },
  {
   "cell_type": "code",
   "execution_count": 32,
   "metadata": {},
   "outputs": [
    {
     "name": "stdout",
     "output_type": "stream",
     "text": [
      "[[0.10166046]]\n",
      "[[0.06562154]]\n",
      "[[0.05750784]]\n",
      "[[0.05328456]]\n",
      "[[0.05083023]]\n"
     ]
    }
   ],
   "source": [
    "for item_ind in result1:\n",
    "    print(cosine_similarity(X[item_mapper['B0016P4P4K']], X[item_ind]))"
   ]
  },
  {
   "cell_type": "markdown",
   "metadata": {},
   "source": [
    "## Sanity check"
   ]
  },
  {
   "cell_type": "code",
   "execution_count": 33,
   "metadata": {},
   "outputs": [],
   "source": [
    "similarity_matrix = cosine_similarity(X, dense_output=False)"
   ]
  },
  {
   "cell_type": "code",
   "execution_count": 38,
   "metadata": {},
   "outputs": [],
   "source": [
    "_, temp_arr = similarity_matrix[item_mapper['B0016P4P4K']].nonzero()"
   ]
  },
  {
   "cell_type": "code",
   "execution_count": 39,
   "metadata": {},
   "outputs": [],
   "source": [
    "my_dict = {}\n",
    "for ind in temp_arr:\n",
    "    my_dict[ind] = similarity_matrix[item_mapper['B0016P4P4K']][0, ind]\n",
    "sorted_ind = sorted(my_dict, key=my_dict.get, reverse=True)"
   ]
  },
  {
   "cell_type": "code",
   "execution_count": 41,
   "metadata": {},
   "outputs": [
    {
     "data": {
      "text/plain": [
       "[7826, 80749, 168527, 173611, 133298]"
      ]
     },
     "execution_count": 41,
     "metadata": {},
     "output_type": "execute_result"
    }
   ],
   "source": [
    "sorted_ind[1:6]"
   ]
  }
 ],
 "metadata": {
  "kernelspec": {
   "display_name": "Python 3",
   "language": "python",
   "name": "python3"
  },
  "language_info": {
   "codemirror_mode": {
    "name": "ipython",
    "version": 3
   },
   "file_extension": ".py",
   "mimetype": "text/x-python",
   "name": "python",
   "nbconvert_exporter": "python",
   "pygments_lexer": "ipython3",
   "version": "3.7.6"
  }
 },
 "nbformat": 4,
 "nbformat_minor": 4
}
